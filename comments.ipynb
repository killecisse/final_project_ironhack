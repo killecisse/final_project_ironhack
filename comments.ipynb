{
 "cells": [
  {
   "cell_type": "code",
   "execution_count": 1,
   "metadata": {},
   "outputs": [],
   "source": [
    "import praw\n",
    "import time\n",
    "from textblob import TextBlob\n",
    "import matplotlib.pyplot as plt\n",
    "\n",
    "reddit = praw.Reddit(\n",
    "    client_id='mDnQ52uK8bEWLO9kr6wnUw',\n",
    "    client_secret='wqivTcktUmwokeoRUVhwd8TYmICNeQ',\n",
    "    user_agent='reddit_sentiment_analysis', \n",
    "    username='antique-incident-560',\n",
    "    password='Kille1995!'\n",
    ")\n",
    "\n",
    "\n",
    "def get_reddit_comments(subreddit, keyword, limit_per_query=100, target_total=20000):\n",
    "    comments = []\n",
    "    total_collected = 0\n",
    "\n",
    "    for submission in reddit.subreddit(subreddit).search(keyword, limit=None):\n",
    "        if total_collected >= target_total:\n",
    "            break\n",
    "        submission.comments.replace_more(limit=0)  # Avoid loading deeply nested comments\n",
    "        for comment in submission.comments.list():\n",
    "            comments.append(comment.body)\n",
    "            total_collected += 1\n",
    "            if total_collected >= target_total:\n",
    "                break\n",
    "            time.sleep(1) \n",
    "\n",
    "    return comments\n",
    "\n",
    "comments = get_reddit_comments('environment', 'climate change')\n",
    "\n"
   ]
  },
  {
   "cell_type": "code",
   "execution_count": 3,
   "metadata": {},
   "outputs": [],
   "source": [
    "import pandas as pd"
   ]
  },
  {
   "cell_type": "code",
   "execution_count": 7,
   "metadata": {},
   "outputs": [],
   "source": [
    "comments_df = pd.DataFrame(comments)\n",
    "\n",
    "comments_df.to_csv('comments_df.csv', index=False)\n"
   ]
  },
  {
   "cell_type": "code",
   "execution_count": 10,
   "metadata": {},
   "outputs": [
    {
     "data": {
      "text/plain": [
       "(20000, 1)"
      ]
     },
     "execution_count": 10,
     "metadata": {},
     "output_type": "execute_result"
    }
   ],
   "source": [
    "comments_df.shape"
   ]
  }
 ],
 "metadata": {
  "kernelspec": {
   "display_name": "base",
   "language": "python",
   "name": "python3"
  },
  "language_info": {
   "codemirror_mode": {
    "name": "ipython",
    "version": 3
   },
   "file_extension": ".py",
   "mimetype": "text/x-python",
   "name": "python",
   "nbconvert_exporter": "python",
   "pygments_lexer": "ipython3",
   "version": "3.11.7"
  }
 },
 "nbformat": 4,
 "nbformat_minor": 2
}
